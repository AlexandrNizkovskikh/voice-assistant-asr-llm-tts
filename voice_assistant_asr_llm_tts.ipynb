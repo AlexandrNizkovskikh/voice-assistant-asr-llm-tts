{
  "nbformat": 4,
  "nbformat_minor": 0,
  "metadata": {
    "colab": {
      "provenance": [],
      "toc_visible": true
    },
    "kernelspec": {
      "name": "python3",
      "display_name": "Python 3"
    },
    "language_info": {
      "name": "python"
    }
  },
  "cells": [
    {
      "cell_type": "markdown",
      "source": [
        "# Установка и импорт библиотек"
      ],
      "metadata": {
        "id": "hKEC1wtIgFiy"
      }
    },
    {
      "cell_type": "code",
      "source": [
        "!pip install vosk soundfile gtts transformers pydub > /dev/null 2>&1"
      ],
      "metadata": {
        "id": "1BgTR-sFvlQE"
      },
      "execution_count": null,
      "outputs": []
    },
    {
      "cell_type": "code",
      "source": [
        "!sudo apt-get install ffmpeg > /dev/null 2>&1"
      ],
      "metadata": {
        "id": "SMAlo-4Lvmp2"
      },
      "execution_count": null,
      "outputs": []
    },
    {
      "cell_type": "code",
      "source": [
        "import os\n",
        "import subprocess\n",
        "import json\n",
        "import requests\n",
        "import soundfile as sf\n",
        "from vosk import Model, KaldiRecognizer\n",
        "from gtts import gTTS\n",
        "from IPython.display import Audio, display\n",
        "from transformers import AutoModelForCausalLM, AutoTokenizer"
      ],
      "metadata": {
        "id": "-EW19HqHwfpM"
      },
      "execution_count": null,
      "outputs": []
    },
    {
      "cell_type": "markdown",
      "source": [
        "# Класс VoiceAssistant"
      ],
      "metadata": {
        "id": "xK_LBuHqgJta"
      }
    },
    {
      "cell_type": "markdown",
      "source": [
        "В этом классе реализованы функции:\n",
        "* загрузка модели LLM - ai-forever/rugpt3small_based_on_gpt2\n",
        "* загрузка модели Vosk для распознования голосовой команды и преобразования в текст\n",
        "* загрузка аудиофайла-команды в формате mp3\n",
        "* конвертация аудиофайла в формат wav\n",
        "* использование Vosk для преобразования голосовой команды в текст\n",
        "* генерация ответа на базе модели от ai-forever\n",
        "* преобразование ответа в речь с помощью GoogleTTS (gTTS)\n",
        "* вывод и автоматическое воспроизведение ответа"
      ],
      "metadata": {
        "id": "AxjK0PutgNEc"
      }
    },
    {
      "cell_type": "code",
      "source": [
        "class VoiceAssistant:\n",
        "    def __init__(self, model_path, commands, llm_name, tts_lang=\"ru\"):\n",
        "        \"\"\"\n",
        "        Инициализация голосового помощника.\n",
        "        Args:\n",
        "            model_path (str): Путь к модели Vosk.\n",
        "            commands (list): Список предопределённых команд.\n",
        "            llm_name (str): Название модели LLM.\n",
        "            tts_lang (str): Язык для TTS (по умолчанию \"ru\").\n",
        "        \"\"\"\n",
        "        self.model_path = model_path\n",
        "        self.commands = commands\n",
        "        self.llm_name = llm_name\n",
        "        self.tts_lang = tts_lang\n",
        "        self.tokenizer = None\n",
        "        self.model = None\n",
        "        self._load_models()\n",
        "\n",
        "    def _load_models(self):\n",
        "        \"\"\"Загрузка моделей Vosk и LLM.\"\"\"\n",
        "        # Загрузка модели Vosk\n",
        "        if not os.path.exists(self.model_path):\n",
        "            print(\"Скачивание модели Vosk...\")\n",
        "            subprocess.run([\"wget\", \"-q\", \"https://alphacephei.com/vosk/models/vosk-model-small-ru-0.22.zip\"])\n",
        "            subprocess.run([\"unzip\", \"-q\", \"vosk-model-small-ru-0.22.zip\"])\n",
        "            print(\"Модель Vosk успешно скачана.\")\n",
        "        else:\n",
        "            print(\"Модель Vosk уже существует.\")\n",
        "\n",
        "        # Загрузка модели LLM\n",
        "        print(\"Загрузка модели LLM...\")\n",
        "        self.tokenizer = AutoTokenizer.from_pretrained(self.llm_name)\n",
        "        self.model = AutoModelForCausalLM.from_pretrained(self.llm_name)\n",
        "        print(\"Модель LLM успешно загружена.\")\n",
        "\n",
        "    def download_audio(self, url, output_file):\n",
        "        \"\"\"\n",
        "        Скачивание аудиофайла.\n",
        "        Args:\n",
        "            url (str): Ссылка на аудиофайл.\n",
        "            output_file (str): Имя для сохранения аудиофайла.\n",
        "        \"\"\"\n",
        "        if not os.path.exists(output_file):\n",
        "            response = requests.get(url, stream=True)\n",
        "            if response.status_code == 200:\n",
        "                with open(output_file, \"wb\") as f:\n",
        "                    f.write(response.content)\n",
        "                print(f\"Файл успешно скачан: {output_file}\")\n",
        "            else:\n",
        "                print(f\"Ошибка при скачивании файла: {url}\")\n",
        "        else:\n",
        "            print(f\"Аудиофайл {output_file} уже существует.\")\n",
        "\n",
        "    def convert_mp3_to_wav(self, input_file, output_file):\n",
        "        \"\"\"\n",
        "        Конвертация MP3 в WAV с частотой 16 кГц и моно.\n",
        "        Args:\n",
        "            input_file (str): Путь к MP3-файлу.\n",
        "            output_file (str): Путь к WAV-файлу.\n",
        "        \"\"\"\n",
        "        command = f\"ffmpeg -y -i {input_file} -ar 16000 -ac 1 {output_file}\"\n",
        "        subprocess.run(command, shell=True)\n",
        "        if os.path.exists(output_file):\n",
        "            print(f\"Файл успешно конвертирован: {output_file}\")\n",
        "        else:\n",
        "            print(\"Ошибка при конвертации файла.\")\n",
        "\n",
        "    def recognize_text(self, wav_file):\n",
        "        \"\"\"\n",
        "        Распознавание текста из WAV-файла.\n",
        "        Args:\n",
        "            wav_file (str): Путь к WAV-файлу.\n",
        "        Returns:\n",
        "            str: Найденная команда или None.\n",
        "        \"\"\"\n",
        "        model = Model(self.model_path)\n",
        "        recognizer = KaldiRecognizer(model, 16000)\n",
        "        with sf.SoundFile(wav_file) as audio:\n",
        "            while True:\n",
        "                data = audio.read(4000, dtype=\"int16\").tobytes()\n",
        "                if len(data) == 0:\n",
        "                    break\n",
        "                recognizer.AcceptWaveform(data)\n",
        "\n",
        "        result = recognizer.FinalResult()\n",
        "        recognized_text = json.loads(result)[\"text\"]\n",
        "\n",
        "        for command in self.commands:\n",
        "            if command in recognized_text:\n",
        "                return command\n",
        "        return None\n",
        "\n",
        "    def generate_response(self, command):\n",
        "        \"\"\"\n",
        "        Генерация текста ответа на основе команды.\n",
        "        Args:\n",
        "            command (str): Команда.\n",
        "        Returns:\n",
        "            str: Сгенерированный ответ.\n",
        "        \"\"\"\n",
        "        prompt = f\"Ответь на следующую команду: '{command}'\"\n",
        "        inputs = self.tokenizer(prompt, return_tensors=\"pt\")\n",
        "        outputs = self.model.generate(inputs.input_ids, max_new_tokens=50, do_sample=True, temperature=0.7)\n",
        "        response = self.tokenizer.decode(outputs[0], skip_special_tokens=True)\n",
        "        return response\n",
        "\n",
        "    def text_to_speech(self, text):\n",
        "        \"\"\"\n",
        "        Преобразование текста в речь.\n",
        "        Args:\n",
        "            text (str): Текст для озвучивания.\n",
        "        \"\"\"\n",
        "        tts = gTTS(text, lang=self.tts_lang)\n",
        "        tts.save(\"response.mp3\")\n",
        "        display(Audio(\"response.mp3\", autoplay=True))\n",
        "\n",
        "    def process_audio(self, input_file):\n",
        "        \"\"\"\n",
        "        Обработка аудиофайла: конвертация, распознавание, генерация ответа и озвучивание.\n",
        "        Args:\n",
        "            input_file (str): Путь к входному MP3-файлу.\n",
        "        \"\"\"\n",
        "        wav_file = input_file.replace(\".mp3\", \".wav\")\n",
        "        self.convert_mp3_to_wav(input_file, wav_file)\n",
        "        recognized_command = self.recognize_text(wav_file)\n",
        "\n",
        "        if recognized_command:\n",
        "            print(f\"Распознана команда: {recognized_command}\")\n",
        "            response = self.generate_response(recognized_command)\n",
        "            print(f\"Ответ: {response}\")\n",
        "            self.text_to_speech(response)\n",
        "        else:\n",
        "            print(\"Команда не распознана.\")"
      ],
      "metadata": {
        "id": "IbEApcK6dQ1w"
      },
      "execution_count": null,
      "outputs": []
    },
    {
      "cell_type": "markdown",
      "source": [
        "# Конфигурация"
      ],
      "metadata": {
        "id": "LifAY3FohlWH"
      }
    },
    {
      "cell_type": "markdown",
      "source": [
        "Необходимые файлы и константы вынесены отдельно для быстрой замены"
      ],
      "metadata": {
        "id": "B3frh8nrhnWi"
      }
    },
    {
      "cell_type": "code",
      "source": [
        "# Конфигурация\n",
        "VOSK_MODEL_PATH = \"vosk-model-small-ru-0.22\"\n",
        "AUDIO_URL = \"https://storage.yandexcloud.net/datasetsforme/voice_comand/Voice_command_1.mp3\"\n",
        "INPUT_FILE = \"Voice_command_1.mp3\"\n",
        "LLM_NAME = \"ai-forever/rugpt3small_based_on_gpt2\"\n",
        "COMMANDS = [\n",
        "    \"расскажи анекдот\",\n",
        "    \"объясни как включить свет\",\n",
        "    \"ответь сколько будет два плюс два\",\n",
        "    \"скажи интересный факт\",\n",
        "    \"зачем нужны деревья\",\n",
        "    \"расскажи про кошек\",\n",
        "    \"объясни что такое воздух\",\n",
        "    \"расскажи про планеты\",\n",
        "    \"объясни что такое солнце\",\n",
        "    \"скажи как узнать дату\"\n",
        "]"
      ],
      "metadata": {
        "id": "6zCTjgecdeO3"
      },
      "execution_count": null,
      "outputs": []
    },
    {
      "cell_type": "markdown",
      "source": [
        "# Инференс"
      ],
      "metadata": {
        "id": "aR4dXzJbhvdp"
      }
    },
    {
      "cell_type": "markdown",
      "source": [
        "## 1. Создание голосового помошника"
      ],
      "metadata": {
        "id": "0nJpTqHChy8A"
      }
    },
    {
      "cell_type": "code",
      "source": [
        "# Создание экземпляра голосового помощника\n",
        "assistant = VoiceAssistant(VOSK_MODEL_PATH, COMMANDS, LLM_NAME)"
      ],
      "metadata": {
        "id": "JqawYSVHdfmb"
      },
      "execution_count": null,
      "outputs": []
    },
    {
      "cell_type": "markdown",
      "source": [
        "## 2. Скачивание аудиофайла по ссылке из конфигурации"
      ],
      "metadata": {
        "id": "FsFRmXmzh34U"
      }
    },
    {
      "cell_type": "code",
      "source": [
        "# Скачивание аудиофайла\n",
        "assistant.download_audio(AUDIO_URL, INPUT_FILE)"
      ],
      "metadata": {
        "id": "0w9D0yURdnOk"
      },
      "execution_count": null,
      "outputs": []
    },
    {
      "cell_type": "markdown",
      "source": [
        "## 3. Вывод ответа на команду и автоматическое воспроизведение речи"
      ],
      "metadata": {
        "id": "sJPoowqUiAGt"
      }
    },
    {
      "cell_type": "code",
      "source": [
        "# Обработка аудиофайла\n",
        "assistant.process_audio(INPUT_FILE)"
      ],
      "metadata": {
        "id": "PAzykaj3ds4_"
      },
      "execution_count": null,
      "outputs": []
    }
  ]
}